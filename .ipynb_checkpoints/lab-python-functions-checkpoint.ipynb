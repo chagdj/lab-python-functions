{
 "cells": [
  {
   "cell_type": "markdown",
   "id": "25d7736c-ba17-4aff-b6bb-66eba20fbf4e",
   "metadata": {},
   "source": [
    "# Lab | Functions"
   ]
  },
  {
   "cell_type": "markdown",
   "id": "0c581062-8967-4d93-b06e-62833222f930",
   "metadata": {
    "tags": []
   },
   "source": [
    "## Exercise: Managing Customer Orders with Functions\n",
    "\n",
    "In the previous exercise, you improved the code for managing customer orders by using loops and flow control. Now, let's take it a step further and refactor the code by introducing functions.\n",
    "\n",
    "Follow the steps below to complete the exercise:\n",
    "\n",
    "1. Define a function named `initialize_inventory` that takes `products` as a parameter. Inside the function, implement the code for initializing the inventory dictionary using a loop and user input.\n",
    "\n",
    "2. Define a function named `get_customer_orders` that takes no parameters. Inside the function, implement the code for prompting the user to enter the product names using a loop. The function should return the `customer_orders` set.\n",
    "\n",
    "3. Define a function named `update_inventory` that takes `customer_orders` and `inventory` as parameters. Inside the function, implement the code for updating the inventory dictionary based on the customer orders.\n",
    "\n",
    "4. Define a function named `calculate_order_statistics` that takes `customer_orders` and `products` as parameters. Inside the function, implement the code for calculating the order statistics (total products ordered, and percentage of unique products ordered). The function should return these values.\n",
    "\n",
    "5. Define a function named `print_order_statistics` that takes `order_statistics` as a parameter. Inside the function, implement the code for printing the order statistics.\n",
    "\n",
    "6. Define a function named `print_updated_inventory` that takes `inventory` as a parameter. Inside the function, implement the code for printing the updated inventory.\n",
    "\n",
    "7. Call the functions in the appropriate sequence to execute the program and manage customer orders.\n",
    "\n",
    "Hints for functions:\n",
    "\n",
    "- Consider the input parameters required for each function and their return values.\n",
    "- Utilize function parameters and return values to transfer data between functions.\n",
    "- Test your functions individually to ensure they work correctly.\n",
    "\n",
    "\n"
   ]
  },
  {
   "cell_type": "code",
   "execution_count": 1,
   "id": "8399ee60-da30-4154-be84-376d4541e40a",
   "metadata": {},
   "outputs": [
    {
     "name": "stdin",
     "output_type": "stream",
     "text": [
      "How many t-shirt(s) are there in the inventory? - 'done' to exit. 2\n"
     ]
    },
    {
     "name": "stdout",
     "output_type": "stream",
     "text": [
      "You have added 2 t-shirt quantities.\n"
     ]
    },
    {
     "name": "stdin",
     "output_type": "stream",
     "text": [
      "How many mug(s) are there in the inventory? - 'done' to exit. 3\n"
     ]
    },
    {
     "name": "stdout",
     "output_type": "stream",
     "text": [
      "You have added 3 mug quantities.\n"
     ]
    },
    {
     "name": "stdin",
     "output_type": "stream",
     "text": [
      "How many hat(s) are there in the inventory? - 'done' to exit. 2\n"
     ]
    },
    {
     "name": "stdout",
     "output_type": "stream",
     "text": [
      "You have added 2 hat quantities.\n"
     ]
    },
    {
     "name": "stdin",
     "output_type": "stream",
     "text": [
      "How many book(s) are there in the inventory? - 'done' to exit. 3\n"
     ]
    },
    {
     "name": "stdout",
     "output_type": "stream",
     "text": [
      "You have added 3 book quantities.\n"
     ]
    },
    {
     "name": "stdin",
     "output_type": "stream",
     "text": [
      "How many keychain(s) are there in the inventory? - 'done' to exit. 4\n"
     ]
    },
    {
     "name": "stdout",
     "output_type": "stream",
     "text": [
      "You have added 4 keychain quantities.\n",
      "\n",
      "Final inventory:\n",
      "t-shirt: 2\n",
      "mug: 3\n",
      "hat: 2\n",
      "book: 3\n",
      "keychain: 4\n"
     ]
    }
   ],
   "source": [
    "products = [\"t-shirt\", \"mug\", \"hat\", \"book\", \"keychain\"]\n",
    "\n",
    "def initialize_inventory(products):\n",
    "    inventory = {}\n",
    "\n",
    "    for product in products:\n",
    "        quantity = input(f\"How many {product}(s) are there in the inventory? - 'done' to exit.\")\n",
    "        \n",
    "        if quantity.lower() == \"done\":\n",
    "            if inventory:\n",
    "                print(\"Your inventory has been validated!\")\n",
    "                return inventory \n",
    "            else:\n",
    "                print(\"Please update the inventory.\")\n",
    "                continue\n",
    "\n",
    "        try:\n",
    "            quantity =int(quantity)\n",
    "            \n",
    "            if product in products:    \n",
    "                inventory[product] = quantity\n",
    "                print(f\"You have added {quantity} {product} quantities.\")    \n",
    "            \n",
    "        except ValueError as e:\n",
    "            print(\"Please enter a number.\")\n",
    "                 \n",
    "    return inventory\n",
    "\n",
    "\n",
    "\n",
    "    \n",
    "inventory = initialize_inventory(products)\n",
    "print(\"\\nFinal inventory:\")\n",
    "for product, quantity in inventory.items():\n",
    "    print(f\"{product}: {quantity}\")"
   ]
  },
  {
   "cell_type": "code",
   "execution_count": 5,
   "id": "3db07a55-2e24-4df1-9b50-9ed48a5a3147",
   "metadata": {},
   "outputs": [
    {
     "name": "stdin",
     "output_type": "stream",
     "text": [
      "\n",
      "What product ['t-shirt', 'mug', 'hat', 'book', 'keychain'] would you like to add? - 'done' to exit.  mug\n"
     ]
    },
    {
     "name": "stdout",
     "output_type": "stream",
     "text": [
      "\n",
      "{'mug'} has been added to your order!\n"
     ]
    },
    {
     "name": "stdin",
     "output_type": "stream",
     "text": [
      "\n",
      "What product ['t-shirt', 'mug', 'hat', 'book', 'keychain'] would you like to add? - 'done' to exit.  hat\n"
     ]
    },
    {
     "name": "stdout",
     "output_type": "stream",
     "text": [
      "\n",
      "{'mug', 'hat'} has been added to your order!\n"
     ]
    },
    {
     "name": "stdin",
     "output_type": "stream",
     "text": [
      "\n",
      "What product ['t-shirt', 'mug', 'hat', 'book', 'keychain'] would you like to add? - 'done' to exit.  done\n"
     ]
    },
    {
     "name": "stdout",
     "output_type": "stream",
     "text": [
      "\n",
      "Your order has been validated!\n",
      "Customer Order {'mug', 'hat'}\n"
     ]
    }
   ],
   "source": [
    "def get_customer_orders():\n",
    "    \n",
    "    customer_orders = set()\n",
    "\n",
    "    while True: \n",
    "        try:\n",
    "            orders = input(f\"\\nWhat product {products} would you like to add? - 'done' to exit. \")\n",
    "        #user input with product as a paremeter to create the loop regarding each items in the list\n",
    "            \n",
    "            if orders.lower() == \"done\":\n",
    "                print(f\"\\nYour order has been validated!\")\n",
    "                break\n",
    "                    \n",
    "\n",
    "            elif orders not in products: \n",
    "                raise ValueError(f\"\\nPlease enter one product among {products}!\") \n",
    "\n",
    "            else:\n",
    "                customer_orders.add(orders)\n",
    "                print(f\"\\n{customer_orders} has been added to your order!\")\n",
    "              \n",
    "         \n",
    "        except ValueError as e:\n",
    "            print(e)  \n",
    "\n",
    "\n",
    "    return customer_orders \n",
    "\n",
    " \n",
    "\n",
    "products = [\"t-shirt\", \"mug\", \"hat\", \"book\", \"keychain\"]\n",
    "\n",
    "customer_orders = get_customer_orders()\n",
    "\n",
    "print(\"Customer Order\", customer_orders)\n",
    "\n"
   ]
  },
  {
   "cell_type": "code",
   "execution_count": 7,
   "id": "09b83ec0-ada8-4dde-b4b4-b531627fc774",
   "metadata": {},
   "outputs": [
    {
     "data": {
      "text/plain": [
       "{'t-shirt': 2, 'mug': 5, 'hat': 3, 'book': 3, 'keychain': 4}"
      ]
     },
     "execution_count": 7,
     "metadata": {},
     "output_type": "execute_result"
    }
   ],
   "source": [
    "def update_inventory(initial_inventory,new_order):\n",
    "\n",
    "    new_inventory = {}\n",
    "\n",
    "    for product, quantities in initial_inventory.items():\n",
    "        if product in new_order:\n",
    "            initial_inventory[product] -= 1\n",
    "\n",
    "    return initial_inventory\n",
    "    \n",
    "\n",
    "\n",
    "\n",
    "result = update_inventory(inventory,customer_orders)\n",
    "result\n",
    "        \n",
    "\n",
    "\n",
    "\n",
    "# another possibility to do implement a set:\n",
    "# def update_inventory(customer_orders, inventory):\n",
    "# for product in customer_orders:\n",
    "        # if product in inventory:\n",
    "          #   inventory[product] -= 1\n",
    "  #   return inventory\n"
   ]
  },
  {
   "cell_type": "code",
   "execution_count": null,
   "id": "401276bc-400e-4bfc-84e6-3a4781e63c45",
   "metadata": {},
   "outputs": [],
   "source": []
  },
  {
   "cell_type": "code",
   "execution_count": null,
   "id": "9f44b1ca-d6c1-4d74-8ea1-b18d0cd88868",
   "metadata": {},
   "outputs": [],
   "source": []
  }
 ],
 "metadata": {
  "kernelspec": {
   "display_name": "Python 3 (ipykernel)",
   "language": "python",
   "name": "python3"
  },
  "language_info": {
   "codemirror_mode": {
    "name": "ipython",
    "version": 3
   },
   "file_extension": ".py",
   "mimetype": "text/x-python",
   "name": "python",
   "nbconvert_exporter": "python",
   "pygments_lexer": "ipython3",
   "version": "3.12.2"
  }
 },
 "nbformat": 4,
 "nbformat_minor": 5
}
