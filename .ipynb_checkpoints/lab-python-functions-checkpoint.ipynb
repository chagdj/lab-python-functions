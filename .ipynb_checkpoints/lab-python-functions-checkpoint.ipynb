{
 "cells": [
  {
   "cell_type": "markdown",
   "id": "25d7736c-ba17-4aff-b6bb-66eba20fbf4e",
   "metadata": {},
   "source": [
    "# Lab | Functions"
   ]
  },
  {
   "cell_type": "markdown",
   "id": "0c581062-8967-4d93-b06e-62833222f930",
   "metadata": {
    "tags": []
   },
   "source": [
    "## Exercise: Managing Customer Orders with Functions\n",
    "\n",
    "In the previous exercise, you improved the code for managing customer orders by using loops and flow control. Now, let's take it a step further and refactor the code by introducing functions.\n",
    "\n",
    "Follow the steps below to complete the exercise:\n",
    "\n",
    "1. Define a function named `initialize_inventory` that takes `products` as a parameter. Inside the function, implement the code for initializing the inventory dictionary using a loop and user input.\n",
    "\n",
    "2. Define a function named `get_customer_orders` that takes no parameters. Inside the function, implement the code for prompting the user to enter the product names using a loop. The function should return the `customer_orders` set.\n",
    "\n",
    "3. Define a function named `update_inventory` that takes `customer_orders` and `inventory` as parameters. Inside the function, implement the code for updating the inventory dictionary based on the customer orders.\n",
    "\n",
    "4. Define a function named `calculate_order_statistics` that takes `customer_orders` and `products` as parameters. Inside the function, implement the code for calculating the order statistics (total products ordered, and percentage of unique products ordered). The function should return these values.\n",
    "\n",
    "5. Define a function named `print_order_statistics` that takes `order_statistics` as a parameter. Inside the function, implement the code for printing the order statistics.\n",
    "\n",
    "6. Define a function named `print_updated_inventory` that takes `inventory` as a parameter. Inside the function, implement the code for printing the updated inventory.\n",
    "\n",
    "7. Call the functions in the appropriate sequence to execute the program and manage customer orders.\n",
    "\n",
    "Hints for functions:\n",
    "\n",
    "- Consider the input parameters required for each function and their return values.\n",
    "- Utilize function parameters and return values to transfer data between functions.\n",
    "- Test your functions individually to ensure they work correctly.\n",
    "\n",
    "\n"
   ]
  },
  {
   "cell_type": "code",
   "execution_count": 20,
   "id": "313da53a-f585-4863-8c35-c8175e582bb8",
   "metadata": {},
   "outputs": [
    {
     "name": "stdout",
     "output_type": "stream",
     "text": [
      "{'t-shirt': 10, 'mug': 5, 'hat': 7, 'book': 3, 'keychain': 15}\n"
     ]
    }
   ],
   "source": [
    "# Available products \n",
    "products = {\n",
    "    \"t-shirt\": 10,\n",
    "    \"mug\": 5,\n",
    "    \"hat\": 7,\n",
    "    \"book\": 3,\n",
    "    \"keychain\": 15\n",
    "}\n",
    "\n",
    "def initialize_inventory(products):\n",
    "    inventory = {}  \n",
    "    for product in products:\n",
    "        quantity = int(input(f\"Enter the quantity for {product}: \"))\n",
    "        inventory[product] = quantity\n",
    "    return inventory\n",
    "\n",
    "inventory = initialize_inventory(products)\n",
    "print(\"Initialized Inventory:\", inventory)"
   ]
  },
  {
   "cell_type": "code",
   "execution_count": 24,
   "id": "009a6106-984d-411a-ae05-4c690df1f951",
   "metadata": {},
   "outputs": [
    {
     "name": "stdin",
     "output_type": "stream",
     "text": [
      "Enter a product name to order (or 'done' to finish):  fish\n",
      "Enter a product name to order (or 'done' to finish):  done\n"
     ]
    },
    {
     "name": "stdout",
     "output_type": "stream",
     "text": [
      "Customer Orders: {'fish'}\n"
     ]
    }
   ],
   "source": [
    "def get_customer_orders():\n",
    "    customer_orders = set() \n",
    "    while True:\n",
    "        order = input(\"Enter a product name to order or 'done' to finish): \").strip()\n",
    "        if order.lower() == 'done':  # Check if the user wants to finish entering orders\n",
    "            break\n",
    "        customer_orders.add(order)  # Add the order to the set\n",
    "    return customer_orders  #\n",
    "\n",
    "orders = get_customer_orders()\n",
    "print(\"Customer Orders:\", orders)\n"
   ]
  },
  {
   "cell_type": "code",
   "execution_count": 32,
   "id": "08589d05-f863-4133-8c63-4061b0973d52",
   "metadata": {},
   "outputs": [
    {
     "name": "stdout",
     "output_type": "stream",
     "text": [
      "Unique products ordered: 1\n",
      "Percentage of unique products ordered: rond(20.0)%\n"
     ]
    }
   ],
   "source": [
    "def calculate_order_statistics(customer_orders, products):\n",
    "    unique_products_ordered = len(customer_orders)\n",
    "    \n",
    "    total_products_available = len(products)\n",
    "    \n",
    "    percentage_unique = (unique_products_ordered / total_products_available) * 100\n",
    "    \n",
    "    return unique_products_ordered, percentage_unique\n",
    "    \n",
    "unique_products_ordered, percentage_unique = calculate_order_statistics(orders, products)\n",
    "print(f\"Unique products ordered: {unique_products_ordered}\")\n",
    "print(f\"Percentage of unique products ordered: rond({percentage_unique})%\")\n",
    "\n"
   ]
  },
  {
   "cell_type": "code",
   "execution_count": 3,
   "id": "0db2520b-55c6-4495-b03b-8e6651a3c41a",
   "metadata": {},
   "outputs": [],
   "source": [
    "def print_updated_inventory(inventory):\n",
    "    print(\"Updated Inventory:\")\n",
    "    for product, quantity in inventory.items():\n",
    "        print(f\"{product}: {quantity} remaining\")"
   ]
  },
  {
   "cell_type": "code",
   "execution_count": null,
   "id": "39c41368-7463-41ad-a9ad-24689a1bc7f4",
   "metadata": {},
   "outputs": [],
   "source": [
    "\n",
    "\n"
   ]
  }
 ],
 "metadata": {
  "kernelspec": {
   "display_name": "Python 3 (ipykernel)",
   "language": "python",
   "name": "python3"
  },
  "language_info": {
   "codemirror_mode": {
    "name": "ipython",
    "version": 3
   },
   "file_extension": ".py",
   "mimetype": "text/x-python",
   "name": "python",
   "nbconvert_exporter": "python",
   "pygments_lexer": "ipython3",
   "version": "3.12.2"
  }
 },
 "nbformat": 4,
 "nbformat_minor": 5
}
