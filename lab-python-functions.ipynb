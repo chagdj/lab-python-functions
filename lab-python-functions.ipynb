{
 "cells": [
  {
   "cell_type": "markdown",
   "id": "25d7736c-ba17-4aff-b6bb-66eba20fbf4e",
   "metadata": {},
   "source": [
    "# Lab | Functions"
   ]
  },
  {
   "cell_type": "markdown",
   "id": "0c581062-8967-4d93-b06e-62833222f930",
   "metadata": {
    "tags": []
   },
   "source": [
    "## Exercise: Managing Customer Orders with Functions\n",
    "\n",
    "In the previous exercise, you improved the code for managing customer orders by using loops and flow control. Now, let's take it a step further and refactor the code by introducing functions.\n",
    "\n",
    "Follow the steps below to complete the exercise:\n",
    "\n",
    "1. Define a function named `initialize_inventory` that takes `products` as a parameter. Inside the function, implement the code for initializing the inventory dictionary using a loop and user input.\n",
    "\n",
    "2. Define a function named `get_customer_orders` that takes no parameters. Inside the function, implement the code for prompting the user to enter the product names using a loop. The function should return the `customer_orders` set.\n",
    "\n",
    "3. Define a function named `update_inventory` that takes `customer_orders` and `inventory` as parameters. Inside the function, implement the code for updating the inventory dictionary based on the customer orders.\n",
    "\n",
    "4. Define a function named `calculate_order_statistics` that takes `customer_orders` and `products` as parameters. Inside the function, implement the code for calculating the order statistics (total products ordered, and percentage of unique products ordered). The function should return these values.\n",
    "\n",
    "5. Define a function named `print_order_statistics` that takes `order_statistics` as a parameter. Inside the function, implement the code for printing the order statistics.\n",
    "\n",
    "6. Define a function named `print_updated_inventory` that takes `inventory` as a parameter. Inside the function, implement the code for printing the updated inventory.\n",
    "\n",
    "7. Call the functions in the appropriate sequence to execute the program and manage customer orders.\n",
    "\n",
    "Hints for functions:\n",
    "\n",
    "- Consider the input parameters required for each function and their return values.\n",
    "- Utilize function parameters and return values to transfer data between functions.\n",
    "- Test your functions individually to ensure they work correctly.\n",
    "\n",
    "\n"
   ]
  },
  {
   "cell_type": "code",
   "execution_count": null,
   "id": "7846f918-469f-435b-987f-bed30876de90",
   "metadata": {},
   "outputs": [],
   "source": []
  },
  {
   "cell_type": "code",
   "execution_count": 1,
   "id": "6b3de6c1-8195-4d90-8362-6b2b43d5bff8",
   "metadata": {},
   "outputs": [],
   "source": [
    "products = [\"t-shirt\", \"mug\", \"hat\", \"book\", \"keychain\"]\n",
    "\n",
    "def initialize_inventory(products):\n",
    "    inventory = {}\n",
    "\n",
    "    for product in products:\n",
    "        while True:  \n",
    "            quantity = input(f\"\\nHow many {product}(s) are there in the inventory? \")\n",
    "\n",
    "            try:\n",
    "                quantity = int(quantity)  \n",
    "                inventory[product] = quantity  # Add quantity to the product\n",
    "                print(f\"You have added {quantity} {product}(s).\")\n",
    "                break  \n",
    "            except ValueError:\n",
    "                print(\"Please enter a valid number.\") \n",
    "\n",
    "    return inventory\n",
    "\n",
    "\n"
   ]
  },
  {
   "cell_type": "code",
   "execution_count": 2,
   "id": "55991695-96c8-4d0e-be05-875a17660e2a",
   "metadata": {},
   "outputs": [],
   "source": [
    "products = [\"t-shirt\", \"mug\", \"hat\", \"book\", \"keychain\"]\n",
    "\n",
    "\n",
    "def get_customer_orders():\n",
    "    yes_no = [\"yes\", \"no\"]\n",
    "    customer_orders = set()\n",
    "   \n",
    "    for product in products:\n",
    "        while True:\n",
    "            client_order = input(f\"\\nHas {product} been ordered - (yes/no) \").lower().strip()\n",
    "            if client_order in yes_no:\n",
    "                if client_order == \"yes\":\n",
    "                    customer_orders.add(product)   # Add quantity to the product\n",
    "                    print(product, \"has been added to the order.\")\n",
    "                else:\n",
    "                    print(\"{product} stays in the inventory.\")\n",
    "                break\n",
    "            else:\n",
    "                print(\"Please enter 'yes' or 'no'.\")\n",
    "         \n",
    "                \n",
    "\n",
    "    return customer_orders\n",
    "\n",
    "\n"
   ]
  },
  {
   "cell_type": "code",
   "execution_count": 3,
   "id": "09b83ec0-ada8-4dde-b4b4-b531627fc774",
   "metadata": {},
   "outputs": [],
   "source": [
    "\n",
    "\n",
    "def update_inventory(initial_inventory,new_order):\n",
    "\n",
    "    new_inventory = {}\n",
    "\n",
    "    for product in new_order:\n",
    "        if product in initial_inventory:\n",
    "            initial_inventory[product] -= 1\n",
    "\n",
    "    updated_inventory = initial_inventory\n",
    "    return updated_inventory\n",
    "    \n",
    "\n",
    "\n",
    "\n",
    "\n",
    "        \n"
   ]
  },
  {
   "cell_type": "code",
   "execution_count": 4,
   "id": "401276bc-400e-4bfc-84e6-3a4781e63c45",
   "metadata": {},
   "outputs": [],
   "source": [
    "def calculate_order_statistics(customer_orders, products):\n",
    "    total_products_ordered = len(customer_orders)\n",
    "    \n",
    "    # Use a set to identify unique products ordered\n",
    "    unique_products_ordered = set(customer_orders)\n",
    "    \n",
    "    # Calculate the percentage of unique products ordered\n",
    "    percentage_of_unique_products_ordered = (len(unique_products_ordered) / len(products)) * 100\n",
    "\n",
    "    return total_products_ordered, percentage_of_unique_products_ordered\n"
   ]
  },
  {
   "cell_type": "code",
   "execution_count": 5,
   "id": "a1d5d65d-fcb5-4319-8052-da7c0668e922",
   "metadata": {},
   "outputs": [],
   "source": [
    "\n",
    "def print_order_statistics(order_statistics):\n",
    "    total_products_ordered, percentage_of_unique_products_ordered = order_statistics\n",
    "    print(\"\\nOrder Statistics:\")\n",
    "    print(f\"Total products ordered: {total_products_ordered}\")\n",
    "    print(f\"Percentage of unique products ordered: {percentage_of_unique_products_ordered}%\")\n"
   ]
  },
  {
   "cell_type": "code",
   "execution_count": 6,
   "id": "b8c4302e-bf37-4c24-8bf5-036032f0dbff",
   "metadata": {},
   "outputs": [],
   "source": [
    "def print_updated_inventory(inventory):\n",
    "    print(\"\\nUpdated Inventory:\")\n",
    "    for product, quantity in inventory.items():\n",
    "        print(f\"{product}: {quantity}\")"
   ]
  },
  {
   "cell_type": "code",
   "execution_count": 7,
   "id": "a7bfd66c-03e5-4c78-b6f7-ad45f7e6999a",
   "metadata": {},
   "outputs": [
    {
     "name": "stdin",
     "output_type": "stream",
     "text": [
      "\n",
      "How many t-shirt(s) are there in the inventory?  4\n"
     ]
    },
    {
     "name": "stdout",
     "output_type": "stream",
     "text": [
      "You have added 4 t-shirt(s).\n"
     ]
    },
    {
     "name": "stdin",
     "output_type": "stream",
     "text": [
      "\n",
      "How many mug(s) are there in the inventory?  5\n"
     ]
    },
    {
     "name": "stdout",
     "output_type": "stream",
     "text": [
      "You have added 5 mug(s).\n"
     ]
    },
    {
     "name": "stdin",
     "output_type": "stream",
     "text": [
      "\n",
      "How many hat(s) are there in the inventory?  5\n"
     ]
    },
    {
     "name": "stdout",
     "output_type": "stream",
     "text": [
      "You have added 5 hat(s).\n"
     ]
    },
    {
     "name": "stdin",
     "output_type": "stream",
     "text": [
      "\n",
      "How many book(s) are there in the inventory?  5\n"
     ]
    },
    {
     "name": "stdout",
     "output_type": "stream",
     "text": [
      "You have added 5 book(s).\n"
     ]
    },
    {
     "name": "stdin",
     "output_type": "stream",
     "text": [
      "\n",
      "How many keychain(s) are there in the inventory?  33\n"
     ]
    },
    {
     "name": "stdout",
     "output_type": "stream",
     "text": [
      "You have added 33 keychain(s).\n",
      "\n",
      "Final inventory: {'t-shirt': 4, 'mug': 5, 'hat': 5, 'book': 5, 'keychain': 33}\n"
     ]
    },
    {
     "name": "stdin",
     "output_type": "stream",
     "text": [
      "\n",
      "Has t-shirt been ordered - (yes/no)  s\n"
     ]
    },
    {
     "name": "stdout",
     "output_type": "stream",
     "text": [
      "Please enter 'yes' or 'no'.\n"
     ]
    },
    {
     "name": "stdin",
     "output_type": "stream",
     "text": [
      "\n",
      "Has t-shirt been ordered - (yes/no)  yes\n"
     ]
    },
    {
     "name": "stdout",
     "output_type": "stream",
     "text": [
      "t-shirt has been added to the order.\n"
     ]
    },
    {
     "name": "stdin",
     "output_type": "stream",
     "text": [
      "\n",
      "Has mug been ordered - (yes/no)  no\n"
     ]
    },
    {
     "name": "stdout",
     "output_type": "stream",
     "text": [
      "{product} stays in the inventory.\n"
     ]
    },
    {
     "name": "stdin",
     "output_type": "stream",
     "text": [
      "\n",
      "Has hat been ordered - (yes/no)  yes\n"
     ]
    },
    {
     "name": "stdout",
     "output_type": "stream",
     "text": [
      "hat has been added to the order.\n"
     ]
    },
    {
     "name": "stdin",
     "output_type": "stream",
     "text": [
      "\n",
      "Has book been ordered - (yes/no)  j\n"
     ]
    },
    {
     "name": "stdout",
     "output_type": "stream",
     "text": [
      "Please enter 'yes' or 'no'.\n"
     ]
    },
    {
     "name": "stdin",
     "output_type": "stream",
     "text": [
      "\n",
      "Has book been ordered - (yes/no)  yes\n"
     ]
    },
    {
     "name": "stdout",
     "output_type": "stream",
     "text": [
      "book has been added to the order.\n"
     ]
    },
    {
     "name": "stdin",
     "output_type": "stream",
     "text": [
      "\n",
      "Has keychain been ordered - (yes/no)  no\n"
     ]
    },
    {
     "name": "stdout",
     "output_type": "stream",
     "text": [
      "{product} stays in the inventory.\n",
      "\n",
      "Your order has been validated:\n",
      "{'book', 'hat', 't-shirt'}\n",
      "{'t-shirt': 3, 'mug': 5, 'hat': 4, 'book': 4, 'keychain': 33}\n",
      "\n",
      "Order Statistics:\n",
      "Total products ordered: 3\n",
      "Percentage of unique products ordered: 60.0%\n",
      "\n",
      "Updated Inventory:\n",
      "t-shirt: 3\n",
      "mug: 5\n",
      "hat: 4\n",
      "book: 4\n",
      "keychain: 33\n",
      "\n",
      "Total products ordered: 3\n",
      "Percentage of unique products ordered: 60.0%\n"
     ]
    }
   ],
   "source": [
    "inventory = initialize_inventory(products)\n",
    "print(\"\\nFinal inventory:\", inventory)\n",
    "\n",
    "customer_orders = get_customer_orders()\n",
    "print(\"\\nYour order has been validated:\")\n",
    "print(customer_orders)\n",
    "\n",
    "updated_inventory = update_inventory(inventory,customer_orders)\n",
    "print(updated_inventory)\n",
    "\n",
    "order_statistics = calculate_order_statistics(customer_orders, products)\n",
    "order_statistics\n",
    "\n",
    "print_order_statistics(order_statistics)  # Correctly pass the calculated statistics\n",
    "\n",
    "\n",
    "updated_inventory = print_updated_inventory(inventory)\n",
    "updated_inventory\n",
    "\n",
    "\n",
    "    \n",
    "total_products_ordered, percentage_of_unique_products_ordered  = calculate_order_statistics(customer_orders,products)   \n",
    "print(f\"\\nTotal products ordered: {total_products_ordered}\")\n",
    "print(f\"Percentage of unique products ordered: {percentage_of_unique_products_ordered}%\")"
   ]
  },
  {
   "cell_type": "code",
   "execution_count": null,
   "id": "ee994561-c7aa-4ad3-abff-1e479de59015",
   "metadata": {},
   "outputs": [],
   "source": []
  },
  {
   "cell_type": "code",
   "execution_count": null,
   "id": "cf46ae44-38cc-4edc-b076-4dbf0da54b91",
   "metadata": {},
   "outputs": [],
   "source": []
  }
 ],
 "metadata": {
  "kernelspec": {
   "display_name": "Python 3 (ipykernel)",
   "language": "python",
   "name": "python3"
  },
  "language_info": {
   "codemirror_mode": {
    "name": "ipython",
    "version": 3
   },
   "file_extension": ".py",
   "mimetype": "text/x-python",
   "name": "python",
   "nbconvert_exporter": "python",
   "pygments_lexer": "ipython3",
   "version": "3.12.2"
  }
 },
 "nbformat": 4,
 "nbformat_minor": 5
}
